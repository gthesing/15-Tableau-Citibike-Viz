{
 "cells": [
  {
   "cell_type": "code",
   "execution_count": null,
   "metadata": {},
   "outputs": [],
   "source": [
    "import pandas as pd \n",
    "from datetime import datetime"
   ]
  },
  {
   "cell_type": "code",
   "execution_count": null,
   "metadata": {},
   "outputs": [],
   "source": [
    "dfs = {\n",
    "    'Jan-2016-citibike': pd.read_csv('RawData/201601-citibike-tripdata.csv'),\n",
    "    'Jul-2016-citibike': pd.read_csv('RawData/201607-citibike-tripdata.csv'),\n",
    "    'Jan-2017-citibike': pd.read_csv('RawData/201701-citibike-tripdata.csv'),\n",
    "    'Jul-2017-citibike': pd.read_csv('RawData/201707-citibike-tripdata.csv'),\n",
    "    'Jan-2018-citibike': pd.read_csv('RawData/201801-citibike-tripdata.csv'),\n",
    "    'Jul-2018-citibike': pd.read_csv('RawData/201807-citibike-tripdata.csv')\n",
    "}"
   ]
  },
  {
   "cell_type": "code",
   "execution_count": null,
   "metadata": {},
   "outputs": [],
   "source": [
    "col_list = [\n",
    "    'Trip Duration', 'Start Time', 'Stop Time', 'Start Station ID', 'Start Station Name', \n",
    "    'Start Station Latitude', 'Start Station Longitude', 'End Station ID', 'End Station Name',\n",
    "    'End Station Latitude', 'End Station Longitude', 'Bike ID', 'User Category', 'Birth Year', 'Gender'\n",
    "]"
   ]
  },
  {
   "cell_type": "code",
   "execution_count": null,
   "metadata": {},
   "outputs": [],
   "source": [
    "rows_tot = 0\n",
    "\n",
    "for key, df in dfs.items():\n",
    "    df.columns = col_list\n",
    "    rows_tot = rows_tot + df.shape[0]\n",
    "    print(f'Total rows after adding {key}: {rows_tot}')"
   ]
  },
  {
   "cell_type": "code",
   "execution_count": null,
   "metadata": {},
   "outputs": [],
   "source": [
    "df_all = pd.DataFrame()\n",
    "\n",
    "for key, df in dfs.items():\n",
    "\n",
    "    # Create individual csv files for each month\n",
    "#     df.to_csv('CleanData/' + key + '.csv', index=False)\n",
    "    \n",
    "    # Create a df containing all of the data\n",
    "    df_all = df_all.append(dfs[key], ignore_index=True)\n",
    "    "
   ]
  },
  {
   "cell_type": "code",
   "execution_count": null,
   "metadata": {},
   "outputs": [],
   "source": [
    "df_all['Start Time'] = pd.to_datetime(df_all['Start Time'])\n",
    "df_all['Stop Time'] = pd.to_datetime(df_all['Stop Time'])"
   ]
  },
  {
   "cell_type": "code",
   "execution_count": null,
   "metadata": {},
   "outputs": [],
   "source": [
    "# Create a csv with all combined months\n",
    "df_all.to_csv('CleanData/combined.csv', index=False)"
   ]
  }
 ],
 "metadata": {
  "kernelspec": {
   "display_name": "ut_data",
   "language": "python",
   "name": "ut_data"
  },
  "language_info": {
   "codemirror_mode": {
    "name": "ipython",
    "version": 3
   },
   "file_extension": ".py",
   "mimetype": "text/x-python",
   "name": "python",
   "nbconvert_exporter": "python",
   "pygments_lexer": "ipython3",
   "version": "3.7.2"
  }
 },
 "nbformat": 4,
 "nbformat_minor": 2
}
